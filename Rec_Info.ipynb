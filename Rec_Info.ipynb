{
 "cells": [
  {
   "cell_type": "markdown",
   "metadata": {},
   "source": [
    "# T1 - Recuperação da Informação\n",
    "Prof. Dr. Marcelo Manzato\n",
    "\n",
    "## Integrantes:\n",
    "- Bruno dos Santos - NUSP 10786170\n",
    "- Gabriel Garcia Lorencetti - NUSP 10691891\n",
    "- Henrique de S. Q. dos Santos - NUSP 10819029"
   ]
  },
  {
   "cell_type": "markdown",
   "metadata": {},
   "source": [
    "### Instalando os requisitos do projeto"
   ]
  },
  {
   "cell_type": "code",
   "execution_count": 1,
   "metadata": {},
   "outputs": [
    {
     "name": "stdout",
     "output_type": "stream",
     "text": [
      "Requirement already satisfied: nltk in c:\\users\\gabri\\anaconda3\\lib\\site-packages (from -r requirements.txt (line 1)) (3.6.1)\n",
      "Requirement already satisfied: matplotlib in c:\\users\\gabri\\anaconda3\\lib\\site-packages (from -r requirements.txt (line 2)) (3.3.4)\n",
      "Requirement already satisfied: scipy in c:\\users\\gabri\\anaconda3\\lib\\site-packages (from -r requirements.txt (line 3)) (1.6.2)\n",
      "Requirement already satisfied: cycler>=0.10 in c:\\users\\gabri\\anaconda3\\lib\\site-packages (from matplotlib->-r requirements.txt (line 2)) (0.10.0)\n",
      "Requirement already satisfied: pyparsing!=2.0.4,!=2.1.2,!=2.1.6,>=2.0.3 in c:\\users\\gabri\\anaconda3\\lib\\site-packages (from matplotlib->-r requirements.txt (line 2)) (2.4.7)\n",
      "Requirement already satisfied: numpy>=1.15 in c:\\users\\gabri\\anaconda3\\lib\\site-packages (from matplotlib->-r requirements.txt (line 2)) (1.20.1)\n",
      "Requirement already satisfied: kiwisolver>=1.0.1 in c:\\users\\gabri\\anaconda3\\lib\\site-packages (from matplotlib->-r requirements.txt (line 2)) (1.3.1)\n",
      "Requirement already satisfied: pillow>=6.2.0 in c:\\users\\gabri\\anaconda3\\lib\\site-packages (from matplotlib->-r requirements.txt (line 2)) (8.2.0)\n",
      "Requirement already satisfied: python-dateutil>=2.1 in c:\\users\\gabri\\anaconda3\\lib\\site-packages (from matplotlib->-r requirements.txt (line 2)) (2.8.1)\n",
      "Requirement already satisfied: six in c:\\users\\gabri\\anaconda3\\lib\\site-packages (from cycler>=0.10->matplotlib->-r requirements.txt (line 2)) (1.15.0)\n",
      "Requirement already satisfied: regex in c:\\users\\gabri\\anaconda3\\lib\\site-packages (from nltk->-r requirements.txt (line 1)) (2021.4.4)\n",
      "Requirement already satisfied: joblib in c:\\users\\gabri\\anaconda3\\lib\\site-packages (from nltk->-r requirements.txt (line 1)) (1.0.1)\n",
      "Requirement already satisfied: tqdm in c:\\users\\gabri\\anaconda3\\lib\\site-packages (from nltk->-r requirements.txt (line 1)) (4.59.0)\n",
      "Requirement already satisfied: click in c:\\users\\gabri\\anaconda3\\lib\\site-packages (from nltk->-r requirements.txt (line 1)) (7.1.2)\n"
     ]
    }
   ],
   "source": [
    "!pip install -r requirements.txt"
   ]
  },
  {
   "cell_type": "markdown",
   "metadata": {},
   "source": [
    "### Importando as bibliotecas necessárias"
   ]
  },
  {
   "cell_type": "code",
   "execution_count": 2,
   "metadata": {
    "id": "PsognIg80bkc"
   },
   "outputs": [],
   "source": [
    "import re\n",
    "import os\n",
    "import gc\n",
    "import math\n",
    "import glob\n",
    "import nltk\n",
    "import shutil\n",
    "import numpy as np\n",
    "from os import listdir\n",
    "from zipfile import ZipFile\n",
    "from collections import Counter\n",
    "import matplotlib.pyplot as plt\n",
    "from os.path import isfile, join\n",
    "from scipy.sparse import csc_matrix\n",
    "from collections import defaultdict\n",
    "from nltk.stem import PorterStemmer\n",
    "from nltk.corpus import stopwords as stopWords\n",
    "from nltk.tokenize import word_tokenize as wordTokenize"
   ]
  },
  {
   "cell_type": "code",
   "execution_count": 3,
   "metadata": {
    "colab": {
     "base_uri": "https://localhost:8080/"
    },
    "id": "z-01mRUW0dQd",
    "outputId": "778b6992-c5b0-4c59-ba56-15cf00639fd9",
    "scrolled": true
   },
   "outputs": [
    {
     "name": "stderr",
     "output_type": "stream",
     "text": [
      "[nltk_data] Downloading package punkt to\n",
      "[nltk_data]     C:\\Users\\gabri\\AppData\\Roaming\\nltk_data...\n",
      "[nltk_data]   Package punkt is already up-to-date!\n",
      "[nltk_data] Downloading package stopwords to\n",
      "[nltk_data]     C:\\Users\\gabri\\AppData\\Roaming\\nltk_data...\n",
      "[nltk_data]   Package stopwords is already up-to-date!\n"
     ]
    }
   ],
   "source": [
    "np.seterr('raise')\n",
    "\n",
    "nltk.download('punkt')\n",
    "nltk.download('stopwords')\n",
    "\n",
    "stopWordsSet = set(stopWords.words('english'))\n",
    "ps = PorterStemmer()"
   ]
  },
  {
   "cell_type": "markdown",
   "metadata": {},
   "source": [
    "Conceder acesso ao Google Drive caso os documentos estejam armazenados nele"
   ]
  },
  {
   "cell_type": "code",
   "execution_count": 4,
   "metadata": {
    "colab": {
     "base_uri": "https://localhost:8080/"
    },
    "id": "Nh8b41d6AgwP",
    "outputId": "22cdd838-600c-45a3-903a-1bd689c7be39"
   },
   "outputs": [],
   "source": [
    "# from google.colab import drive\n",
    "# drive.mount('/content/drive')"
   ]
  },
  {
   "cell_type": "markdown",
   "metadata": {},
   "source": [
    "### Definição de classes\n",
    "\n",
    "Código retirado dos exemplos do professor Marcelo Manzato"
   ]
  },
  {
   "cell_type": "code",
   "execution_count": 5,
   "metadata": {
    "id": "hBKUKpRm0gGX"
   },
   "outputs": [],
   "source": [
    "class Node:\n",
    "    def __init__(self, docId, freq):\n",
    "        self.freq = freq\n",
    "        self.doc = docId\n",
    "        self.next = None\n",
    "    \n",
    "    def __str__(self):        \n",
    "        return 'doc:' + str(self.doc) + ', freq:' + str(self.freq)\n",
    "\n",
    "class LinkedList:\n",
    "    def __init__(self):\n",
    "        self.head = None\n",
    "        self.tail = None\n",
    "        self.n_docs = 0\n",
    "    \n",
    "    def print_list(self):\n",
    "        aux = self.head\n",
    "        while aux:\n",
    "            print(aux)\n",
    "            aux = aux.next\n",
    "    \n",
    "    def get_doclist(self):\n",
    "        l = []\n",
    "        aux = self.head\n",
    "        while aux:\n",
    "            l.append([aux.doc, aux.freq])\n",
    "            aux = aux.next\n",
    "        return l\n",
    "    \n",
    "    def add_doc(self, doc, freq):\n",
    "        node = Node(doc, freq)        \n",
    "        if self.head == None:\n",
    "            self.head = node        \n",
    "        else:\n",
    "            self.tail.next = node\n",
    "        self.tail = node\n",
    "        self.n_docs += 1"
   ]
  },
  {
   "cell_type": "markdown",
   "metadata": {},
   "source": [
    "### Funções úteis"
   ]
  },
  {
   "cell_type": "code",
   "execution_count": 6,
   "metadata": {
    "id": "4brYo6Ihz-lx"
   },
   "outputs": [],
   "source": [
    "def removeSpecialCharacters(text):\n",
    "    regex = re.compile('[^a-zA-Z0-9\\s]')\n",
    "    return re.sub(regex, '', text)\n",
    "\n",
    "def tokenizeAndRemoveSpecialCharacters(text):\n",
    "    return wordTokenize(removeSpecialCharacters(text))\n",
    "\n",
    "def listsIntersection(lst1, lst2):\n",
    "    return list(set(lst1) & set(lst2))\n",
    "\n",
    "def computeNorm(word, maxFreq, linkedListData, wordsInDocument, itf, docsIds):\n",
    "    sum = 0\n",
    "    docs = linkedListData[word].get_doclist()\n",
    "\n",
    "    for doc in wordsInDocument.keys():\n",
    "        if doc in docs:\n",
    "            freq = docs[1]\n",
    "        else:\n",
    "            freq = 0\n",
    "        a = pow((0.5 + 0.5 * (freq / maxFreq)), 2)\n",
    "        b = pow(itf[docsIds[doc]], 2)\n",
    "        sum = sum + a * b\n",
    "\n",
    "    return math.sqrt(sum)\n",
    "\n",
    "def getMaxFreq(word, linkedListData):\n",
    "    maxFreq = 0\n",
    "    docs = linkedListData[word].get_doclist()\n",
    "\n",
    "    for doc in docs:\n",
    "        freq = doc[1]\n",
    "        if freq > maxFreq:\n",
    "            maxFreq = freq\n",
    "    return maxFreq\n",
    "\n",
    "def getFileText(text):\n",
    "    try:\n",
    "        text = re.search('<TEXT>(.+?)</TEXT>', text, flags=re.DOTALL).group(1)\n",
    "    except AttributeError: # <TEXT></TEXT> not found in the original string\n",
    "        text = ''\n",
    "    return text\n",
    "\n",
    "def getFileName(text):\n",
    "    try:\n",
    "        name = re.search('<DOCNO>(.+?)</DOCNO>', text, flags=re.DOTALL).group(1)\n",
    "    except AttributeError: # <DOCNO></DOCNO> not found in the original string\n",
    "        name = ''\n",
    "    return name\n",
    "\n",
    "def filterText(removeStopWords, removeStemmingWords, value):\n",
    "    words = []\n",
    "    for w in value:\n",
    "        if removeStopWords == True and w not in stopWordsSet: # stop words\n",
    "            if removeStemmingWords == True:\n",
    "                w = ps.stem(w)  # stemming\n",
    "        elif removeStopWords == False:\n",
    "            if removeStemmingWords == True:\n",
    "                w = ps.stem(w)  # stemming\n",
    "        words.append(w)\n",
    "    return words\n",
    "\n",
    "def readDocs(path):\n",
    "    numDocs = 0\n",
    "    docsIds = {}\n",
    "    docsNames = []\n",
    "    wordsInDocument = {}\n",
    "\n",
    "    for folder in glob.glob(path):\n",
    "        for subfolder in glob.glob(folder + '/*'):\n",
    "            for directory in glob.glob(subfolder + '/*'):\n",
    "                for subdir in glob.glob(directory):\n",
    "                    with open(subdir, \"r\") as doc:\n",
    "                        text = doc.read()\n",
    "                        \n",
    "                        fileName = getFileName(text)\n",
    "                        \n",
    "                        wordsInDocument[fileName] = getFileText(text)\n",
    "                        \n",
    "                        wordsInDocument[fileName] = tokenizeAndRemoveSpecialCharacters(wordsInDocument[fileName].lower())\n",
    "                        \n",
    "                        # atribuindo um id pra cada documento\n",
    "                        docsIds[fileName] = numDocs\n",
    "\n",
    "                        # salvando nomes dos arquivos\n",
    "                        docsNames.append(fileName)\n",
    "                        \n",
    "                        numDocs = numDocs + 1\n",
    "                doc.close()\n",
    "\n",
    "    return numDocs, docsIds, docsNames, wordsInDocument\n",
    "\n",
    "def readQueriesDoc(path):\n",
    "    \"\"\"Lê o documento en.topics e armazena as queries, e seus respectivos ids, que serão usados\"\"\"\n",
    "\n",
    "    queries = defaultdict()\n",
    "    with open(path) as file:\n",
    "        text = file.read()\n",
    "        splitted = text.split(\"\\n\\n\")\n",
    "\n",
    "    for line in splitted:\n",
    "        if 'topics' in line: continue\n",
    "        id = re.search(r'<num>(.*?)</num>', line).group(1)\n",
    "        query = re.search(r'<title>(.*?)</title>.', line, flags=re.DOTALL).group(1)\n",
    "        query += re.search(r'<narr>(.*?)</narr>', line, flags=re.DOTALL).group(1)\n",
    "        query = removeSpecialCharacters(query)\n",
    "        queries[id] = wordTokenize(query)\n",
    "#         queries[id] = filterText(True, True, queries[id])\n",
    "\n",
    "    return queries"
   ]
  },
  {
   "cell_type": "markdown",
   "metadata": {},
   "source": [
    "### Modelo probabilístico"
   ]
  },
  {
   "cell_type": "code",
   "execution_count": 7,
   "metadata": {
    "id": "4brYo6Ihz-lx"
   },
   "outputs": [],
   "source": [
    "def prob_model(wordsInDocument, query, linkedListData, numDocs, uniqueWords):\n",
    "    \"\"\"\n",
    "    Modelo probabilistico\n",
    "    \"\"\"\n",
    "\n",
    "    # Seleção inicial\n",
    "    initial_sel_answer = {}\n",
    "    \n",
    "    for doc in wordsInDocument.keys():\n",
    "        words = wordsInDocument[doc]\n",
    "        commonWordsBetweenQueryAndDoc = listsIntersection(query, words)\n",
    "        relevance = 0\n",
    "        for ki in commonWordsBetweenQueryAndDoc:\n",
    "            numDocsWithKi = linkedListData[ki].n_docs\n",
    "            relevance += math.log10((numDocs + 0.5)/(numDocsWithKi + 0.5))\n",
    "            if relevance > 0:\n",
    "                initial_sel_answer[doc] = relevance\n",
    "    \n",
    "    # verifica qual a maior relevancia encontrada\n",
    "    # na seleção inicial dentre os documentos\n",
    "    max = 0\n",
    "    doc = ''\n",
    "    for item in initial_sel_answer.keys():\n",
    "        if initial_sel_answer[item] > max:\n",
    "            max = initial_sel_answer[item]\n",
    "            doc = item\n",
    "            \n",
    "    # Ranqueamento final\n",
    "\n",
    "    relevantDocs = []\n",
    "    numRelevantDocs = {}\n",
    "    \n",
    "    sorted_answer = sorted(initial_sel_answer.items(), key = lambda x: x[1], reverse = True)\n",
    "\n",
    "    relevantDocs.append(sorted_answer[0][0])\n",
    "    \n",
    "    final_rank_answer = {}\n",
    "    \n",
    "    for word in query:\n",
    "        if word not in uniqueWords:\n",
    "            continue\n",
    "        postings = linkedListData[word].head\n",
    "        numRelevantDocs[word] = 0\n",
    "        while postings:\n",
    "            if postings.doc in relevantDocs:\n",
    "                numRelevantDocs[word] += 1\n",
    "            postings = postings.next\n",
    "    \n",
    "    numRelevantDocsToQuery = len(relevantDocs)\n",
    "    \n",
    "    for doc in wordsInDocument.keys():\n",
    "        words = wordsInDocument[doc]\n",
    "        commonWordsBetweenQueryAndDoc = listsIntersection(query, words)\n",
    "        relevance = 0\n",
    "    \n",
    "        for ki in commonWordsBetweenQueryAndDoc:\n",
    "            numDocsWithKi = linkedListData[ki].n_docs\n",
    "            numRelevantDocsWithKi = numRelevantDocs[ki]\n",
    "            \n",
    "            numerator = ((numRelevantDocsWithKi + 0.5) * (numDocs - numDocsWithKi - numRelevantDocsToQuery + numRelevantDocsWithKi + 0.5))\n",
    "\n",
    "            denominator = ((numRelevantDocsToQuery - numRelevantDocsWithKi + 0.5) * (numDocsWithKi - numRelevantDocsWithKi + 0.5))\n",
    "\n",
    "            if numerator <= 0 or denominator <= 0: relevance += 0\n",
    "            else: relevance += math.log10(numerator / denominator)\n",
    "\n",
    "        if(relevance > 0): final_rank_answer[doc] = relevance\n",
    "    \n",
    "\n",
    "    final_rank_answer_sorted = {k: v for k, v in sorted(final_rank_answer.items(), key = lambda item: item[1], reverse=True)}\n",
    "\n",
    "    # final_rank_answer\n",
    "\n",
    "    # Se os dois prints tiverem o mesmo valor, significa que\n",
    "    # o documento com mais relevância na seleção inicial\n",
    "    # é o mesmo na seleção final\n",
    "\n",
    "    # max = 0\n",
    "    # for item in final_rank_answer.keys():\n",
    "    #     if final_rank_answer[item] > max:\n",
    "    #         max = final_rank_answer[item]\n",
    "\n",
    "    # if final_rank_answer[relevantDocs[0]] == max:\n",
    "    #     print(\"\\nResultados iguais = \", final_rank_answer[relevantDocs[0]])\n",
    "\n",
    "    return initial_sel_answer, final_rank_answer_sorted"
   ]
  },
  {
   "cell_type": "markdown",
   "metadata": {},
   "source": [
    "### Modelo Vetorial\n",
    "Será utilizada a ponderação de termos TF-IDF, que considera a frequência de cada termo e a frequência inversa de documento.\n",
    "\n",
    "Alguns termos possuem maior importância semântica para representar determinado elemento. Por exemplo, um termo que aparece em todos os documentos indexados não nos auxilia em nada no rankeamento dos mesmos, da mesma forma que um termo raro pode ser de extrema importância para identificar um determinado assunto."
   ]
  },
  {
   "cell_type": "code",
   "execution_count": 8,
   "metadata": {
    "id": "4brYo6Ihz-lx"
   },
   "outputs": [],
   "source": [
    "def vect_model(wordsIds, uniqueWords, numDocs, linkedListData, query, docsNames, docsIds):\n",
    "\n",
    "    # Ponderação TF-IDF\n",
    "\n",
    "    m = np.zeros((len(uniqueWords), numDocs))\n",
    "    \n",
    "    for word in uniqueWords:\n",
    "        postings = linkedListData[word].get_doclist()\n",
    "        \n",
    "        idf = math.log2(numDocs/ linkedListData[word].n_docs)\n",
    "    \n",
    "        for node in postings:\n",
    "    \n",
    "            docName = node[0]\n",
    "            freq = node[1]\n",
    "    \n",
    "            # tf-idf = (1+log2(freq))*idf, se freq > 0\n",
    "            if freq > 0:\n",
    "                m[wordsIds[word], docsIds[docName]] = (1 + math.log2(freq)) * idf\n",
    "            # tf-idf = 0, caso contrario\n",
    "            else: m[wordsIds[word], docsIds[docName]] = 0.0\n",
    "\n",
    "    \"\"\"Normalização pelo tamanho dos documentos\"\"\"\n",
    "    m = m**2\n",
    "    norm = np.sum(m, axis=0)\n",
    "    norm = [math.sqrt(norm[i]) for i in range(len(norm))]\n",
    "    \n",
    "#     del m_2\n",
    "#     gc.collect()\n",
    "\n",
    "    \"\"\"Realizando a ponderação TF-IDF na query\"\"\"\n",
    "\n",
    "    i = 0\n",
    "    queryVector = np.zeros(len(uniqueWords))\n",
    "    \n",
    "    for word in uniqueWords:\n",
    "        if word in query:\n",
    "            idf = math.log2(numDocs/ linkedListData[word].n_docs)\n",
    "            queryVector[i] = (1 + math.log2(query.count(word))) * idf\n",
    "            i += 1\n",
    "\n",
    "    \"\"\"Ranqueamento\"\"\"\n",
    "    \n",
    "    ranking = {}\n",
    "    \n",
    "    for docName in docsNames:\n",
    "        rel = np.dot(m[:,docsIds[docName]], queryVector) / norm[docsIds[docName]]\n",
    "        if(rel >= 0.1): ranking[docName] = rel\n",
    "    \n",
    "    sorted_ranking = {k: v for k, v in sorted(ranking.items(), key = lambda item: item[1], reverse=True)}\n",
    "\n",
    "    del m\n",
    "    gc.collect()\n",
    "\n",
    "    return sorted_ranking"
   ]
  },
  {
   "cell_type": "markdown",
   "metadata": {},
   "source": [
    "### Expansão de consultas"
   ]
  },
  {
   "cell_type": "code",
   "execution_count": 9,
   "metadata": {
    "id": "4brYo6Ihz-lx"
   },
   "outputs": [],
   "source": [
    "def query_expansion(numDocs, wordsInDocument, docsIds, uniqueWords, linkedListData, query, wordsIds):\n",
    "    \"\"\"\n",
    "    Expansão de consultas\n",
    "\n",
    "    \"\"\"\n",
    "    \n",
    "    \"\"\"Frequência inversa de termo (itf)\"\"\"\n",
    "\n",
    "    # Frequencia inversa de termo (itf) pra cada documento j\n",
    "    # Calculo dele é dado por:\n",
    "    # numerador = nro de termos distintos em tds os docs\n",
    "    # denominador = nro de termos distintos no doc j\n",
    "    # itf(doc j) = numerador / denominador\n",
    "    itf = [0] * numDocs\n",
    "\n",
    "    for doc in wordsInDocument.keys():\n",
    "        uniqueWordsInDoc = set(wordsInDocument[doc])\n",
    "        if(len(uniqueWordsInDoc) == 0): \n",
    "            continue\n",
    "        docId = docsIds[doc]\n",
    "        itf[docId] = math.log2(len(uniqueWords) / len(uniqueWordsInDoc))\n",
    "\n",
    "    \"\"\"Pesagem dos documentos\"\"\"\n",
    "\n",
    "    w = np.zeros((len(uniqueWords), numDocs))\n",
    "    \n",
    "    for word in uniqueWords:\n",
    "        maxFreq = getMaxFreq(word, linkedListData)\n",
    "        norm = computeNorm(word, maxFreq, linkedListData, wordsInDocument, itf, docsIds)\n",
    "    \n",
    "        for docs in linkedListData[word].get_doclist():\n",
    "            fileName = docs[0]\n",
    "            freq = docs[1]\n",
    "            a = (0.5 + 0.5 * (freq / maxFreq))\n",
    "            b = itf[docsIds[fileName]]\n",
    "            w[wordsIds[word]][docsIds[fileName]] = (a * b) / norm\n",
    "\n",
    "    \"\"\"Similaridade\"\"\"\n",
    "\n",
    "    # Similaridade\n",
    "    c = np.dot(w, w.transpose())\n",
    "\n",
    "    del w\n",
    "    gc.collect()\n",
    "\n",
    "    \"\"\"Pesagem da consulta\"\"\"\n",
    "\n",
    "    # Pesagem da consulta\n",
    "    q = [0] * len(query)\n",
    "    \n",
    "    uniqueWordsInQuery = set(query)\n",
    "    \n",
    "    i = 0\n",
    "    wordsInQueryIds = {}\n",
    "    for word in query:\n",
    "        wordsInQueryIds[word] = i\n",
    "        i = i + 1\n",
    "    \n",
    "    sum = 0\n",
    "    for i in range(len(itf)):\n",
    "        sum = sum + math.pow(itf[i], 2)\n",
    "    norm = math.sqrt(sum)\n",
    "    \n",
    "    for word in query:\n",
    "        q[wordsInQueryIds[word]] = math.log2(len(uniqueWords)/ len(uniqueWordsInQuery)) / norm\n",
    "\n",
    "    \"\"\"Combinação da similaridade com pesagem da consulta\"\"\"\n",
    "\n",
    "    result = {}\n",
    "    \n",
    "    # Combinação da similaridade com a pesagem da consulta\n",
    "    for word in uniqueWords:\n",
    "        similaridade = 0\n",
    "        result[word] = similaridade\n",
    "        for item in query:\n",
    "            a = q[wordsInQueryIds[item]]\n",
    "            if item not in uniqueWords:\n",
    "                b = 0\n",
    "            else:\n",
    "                b = c[wordsIds[item]][wordsIds[word]]\n",
    "            similaridade = similaridade + a * b\n",
    "            result[word] = similaridade\n",
    "\n",
    "    \"\"\"Resultado da expansão\"\"\"\n",
    "\n",
    "    sorted_result = {k: v for k, v in sorted(result.items(), key = lambda item: item[1], reverse=True)}\n",
    "\n",
    "    keys = list(sorted_result.keys())\n",
    "\n",
    "    return sorted_result"
   ]
  },
  {
   "cell_type": "code",
   "execution_count": 10,
   "metadata": {
    "id": "4brYo6Ihz-lx"
   },
   "outputs": [],
   "source": [
    "def getRelDocs(path):\n",
    "    rel_docs = defaultdict()\n",
    "\n",
    "    with open(path) as file:\n",
    "        for line in file:\n",
    "            token = wordTokenize(line)\n",
    "            if token[3] == '1':\n",
    "                if int(token[0]) in rel_docs.keys():\n",
    "                    rel_docs[int(token[0])].append(token[2])\n",
    "                else:\n",
    "                    rel_docs[int(token[0])] = [token[2]]\n",
    "\n",
    "    return rel_docs"
   ]
  },
  {
   "cell_type": "markdown",
   "metadata": {},
   "source": [
    "### Precisão e Revocação"
   ]
  },
  {
   "cell_type": "code",
   "execution_count": 11,
   "metadata": {
    "id": "4brYo6Ihz-lx"
   },
   "outputs": [],
   "source": [
    "def evaluation(rel_docs, answer, recall_I):\n",
    "    \"\"\"\n",
    "    Avaliação\n",
    "    \n",
    "    A avaliação serve para julgar o quão bem o sistema atende à necessidade de \n",
    "    informação do usuário. Estamos considerando precisão e revocação. \n",
    "    \"\"\"\n",
    "\n",
    "    intersec = 0\n",
    "    acessedDocs = 0\n",
    "    precisaoList = []\n",
    "    revocacaoList = []\n",
    "\n",
    "    for rel_doc in answer.keys():\n",
    "        acessedDocs += 1\n",
    "        if rel_doc in rel_docs:\n",
    "            intersec += 1\n",
    "            precisaoList.append(intersec/acessedDocs)\n",
    "            revocacaoList.append(intersec/len(rel_docs))\n",
    "\n",
    "    if len(revocacaoList) == 0 or len(precisaoList) == 0:\n",
    "        revocacaoList.append(0)\n",
    "        precisaoList.append(0)\n",
    "        \n",
    "#     print(\"revocação\", revocacaoList)\n",
    "#     print(\"precisao\", precisaoList)\n",
    "\n",
    "    precision_I = np.interp(recall_I, revocacaoList, precisaoList)\n",
    "\n",
    "    return precision_I\n",
    "\n",
    "def median(precision):\n",
    "    med = np.zeros(11)\n",
    "    tam = 0\n",
    "    for prec in precision.keys():        \n",
    "        med += precision[prec]\n",
    "        tam +=1\n",
    "    med = med/tam\n",
    "\n",
    "    return med"
   ]
  },
  {
   "cell_type": "markdown",
   "metadata": {},
   "source": [
    "### Lendo o dataset, as queries e os resultados relevantes"
   ]
  },
  {
   "cell_type": "code",
   "execution_count": 12,
   "metadata": {
    "id": "XO2csXGO0mbH"
   },
   "outputs": [
    {
     "name": "stdout",
     "output_type": "stream",
     "text": [
      "Wall time: 164 ms\n"
     ]
    }
   ],
   "source": [
    "%%time\n",
    "\n",
    "docsPath = 'FIRE2010/FIRE2010/en.doc.2010/data/TELEGRAPH_UTF8/*'\n",
    "topicsPath = 'FIRE2010/FIRE2010/db/en.topics.76-125.2010.txt'\n",
    "queriesPath = 'FIRE2010/FIRE2010/en.qrels.76-125.2010.txt'\n",
    "\n",
    "numDocs, docsIds, docsNames, wordsInDocument = readDocs(docsPath)"
   ]
  },
  {
   "cell_type": "markdown",
   "metadata": {},
   "source": [
    "### Criando o dicionário e filtrando as palavras"
   ]
  },
  {
   "cell_type": "code",
   "execution_count": 13,
   "metadata": {},
   "outputs": [
    {
     "name": "stdout",
     "output_type": "stream",
     "text": [
      "Wall time: 510 ms\n"
     ]
    }
   ],
   "source": [
    "%%time\n",
    "\n",
    "dict = defaultdict(int)\n",
    "\n",
    "# Remoção de stopwords, radicalização e indexação\n",
    "for key, value in wordsInDocument.items():\n",
    "      wordsInDocument[key] = filterText(True, True, value)"
   ]
  },
  {
   "cell_type": "code",
   "execution_count": 14,
   "metadata": {},
   "outputs": [
    {
     "name": "stdout",
     "output_type": "stream",
     "text": [
      "Wall time: 6.98 ms\n"
     ]
    }
   ],
   "source": [
    "%%time\n",
    "\n",
    "for key, value in wordsInDocument.items():\n",
    "      for w in set(value): \n",
    "            dict[w] += 1"
   ]
  },
  {
   "cell_type": "code",
   "execution_count": 15,
   "metadata": {
    "id": "jFVSc0qRC7Ca"
   },
   "outputs": [
    {
     "name": "stdout",
     "output_type": "stream",
     "text": [
      "\n",
      "Found 3701 unique words\n",
      "Wall time: 167 ms\n"
     ]
    }
   ],
   "source": [
    "%%time\n",
    "\n",
    "i = 0\n",
    "wordsIds = {}\n",
    "linkedListData = {}\n",
    "uniqueWords = sorted(set(dict.keys()))\n",
    "\n",
    "# atribuindo um id pra cada palavra\n",
    "for word in uniqueWords:\n",
    "    wordsIds[word] = i\n",
    "    linkedListData[word] = LinkedList()\n",
    "    i = i + 1\n",
    "\n",
    "print(\"\\nFound %d unique words\" % len(uniqueWords))\n",
    "\n",
    "for doc in wordsInDocument.keys():\n",
    "    words = wordsInDocument[doc]\n",
    "    for word in set(words):\n",
    "        linkedListData[word].add_doc(doc, words.count(word))"
   ]
  },
  {
   "cell_type": "code",
   "execution_count": 16,
   "metadata": {},
   "outputs": [
    {
     "name": "stdout",
     "output_type": "stream",
     "text": [
      "\n",
      "Found 3701 unique words\n",
      "Wall time: 163 ms\n"
     ]
    }
   ],
   "source": [
    "%%time\n",
    "\n",
    "print(\"\\nFound %d unique words\" % len(uniqueWords))\n",
    "\n",
    "for doc in wordsInDocument.keys():\n",
    "    words = wordsInDocument[doc]\n",
    "    for word in set(words):\n",
    "        linkedListData[word].add_doc(doc, words.count(word))"
   ]
  },
  {
   "cell_type": "code",
   "execution_count": 17,
   "metadata": {
    "id": "7lYjhGjq0rGk"
   },
   "outputs": [
    {
     "name": "stdout",
     "output_type": "stream",
     "text": [
      "Wall time: 169 ms\n"
     ]
    }
   ],
   "source": [
    "%%time\n",
    "\n",
    "queries = readQueriesDoc(topicsPath)\n",
    "rel_docs = getRelDocs(queriesPath)\n",
    "\n",
    "initial_sel_answer = defaultdict()\n",
    "final_rank_answer = defaultdict()\n",
    "\n",
    "exp_initial_sel_answer = defaultdict()\n",
    "exp_final_rank_answer = defaultdict()\n",
    "\n",
    "ranked_vect_answer = defaultdict()\n",
    "\n",
    "expansion_answer = defaultdict()\n",
    "precisionProb = defaultdict()\n",
    "precisionVet = defaultdict()\n",
    "precisionExp = defaultdict()\n",
    "\n",
    "recall = np.linspace(0, 1, num=11, endpoint=True)"
   ]
  },
  {
   "cell_type": "markdown",
   "metadata": {},
   "source": [
    "### Aplicando a busca nas n queries e avaliando o desempenho de cada método"
   ]
  },
  {
   "cell_type": "code",
   "execution_count": 23,
   "metadata": {},
   "outputs": [
    {
     "name": "stdout",
     "output_type": "stream",
     "text": [
      "Wall time: 28.1 s\n"
     ]
    }
   ],
   "source": [
    "%%time\n",
    "\n",
    "# Define qual query iremos trabalhar em cima\n",
    "for queryId in queries.keys():\n",
    "    query = queries[queryId]\n",
    "\n",
    "    # aplicando o modelo probabilístico\n",
    "    initial_sel_answer[queryId], final_rank_answer[queryId] = prob_model(wordsInDocument, query, linkedListData, numDocs, uniqueWords)\n",
    "\n",
    "    # aplicando o modelo vetorial\n",
    "    ranked_vect_answer[queryId] = vect_model(wordsIds, uniqueWords, numDocs, linkedListData, query, docsNames, docsIds)\n",
    "\n",
    "    # aplicando a expansão de consultas\n",
    "    expansion_answer[queryId] = query_expansion(numDocs, wordsInDocument, docsIds, uniqueWords, linkedListData, query, wordsIds)\n",
    "    \n",
    "    # aplicando novamente o modelo probabilístico para a querry criada pela expansão de consultas\n",
    "    exp_initial_sel_answer[queryId], exp_final_rank_answer[queryId] = prob_model(wordsInDocument, expansion_answer[queryId], linkedListData, numDocs, uniqueWords)\n",
    "    \n",
    "    # calculando a precisão e revocação para o modelo probabilístico, vetorial e probabilístico com expansão de consultas\n",
    "    precisionProb[queryId] = evaluation(rel_docs[int(queryId)], initial_sel_answer[queryId], recall)\n",
    "    precisionVet[queryId] = evaluation(rel_docs[int(queryId)], ranked_vect_answer[queryId], recall)\n",
    "    precisionExp[queryId] = evaluation(rel_docs[int(queryId)], exp_final_rank_answer[queryId], recall)"
   ]
  },
  {
   "cell_type": "code",
   "execution_count": 19,
   "metadata": {},
   "outputs": [],
   "source": [
    "# calculando a média das n consultas\n",
    "precisionProbMedian = median(precisionProb)\n",
    "precisionVetMedian = median(precisionVet)\n",
    "precisionExpMedian = median(precisionExp)"
   ]
  },
  {
   "cell_type": "markdown",
   "metadata": {},
   "source": [
    "## Comparação dos modelos"
   ]
  },
  {
   "cell_type": "markdown",
   "metadata": {},
   "source": [
    "### Precisão x Revocação"
   ]
  },
  {
   "cell_type": "code",
   "execution_count": 21,
   "metadata": {
    "colab": {
     "base_uri": "https://localhost:8080/",
     "height": 334
    },
    "id": "8hsAVZWD11D_",
    "outputId": "f8a842c2-9524-4948-91c8-19a4473efbc8",
    "scrolled": false
   },
   "outputs": [
    {
     "data": {
      "image/png": "[encoded data removed]",
      "text/plain": [
       "<Figure size 864x432 with 1 Axes>"
      ]
     },
     "metadata": {
      "needs_background": "light"
     },
     "output_type": "display_data"
    }
   ],
   "source": [
    "fig = plt.figure(figsize=(12, 6))\n",
    "plt.plot(recall, precisionProbMedian, linestyle='-', marker='o', color='b')\n",
    "plt.plot(recall, precisionVetMedian, linestyle='-', marker='o', color='r')\n",
    "plt.plot(recall, precisionExpMedian, linestyle='-', marker='o', color='g')\n",
    "plt.ylim([0,0.8])\n",
    "plt.legend([\"Modelo Probabilístico\", \"Modelo Vetorial\", \"Expansão de consultas\"])\n",
    "plt.ylabel(\"Precisão\")\n",
    "plt.xlabel(\"Revocação\")\n",
    "plt.title(\"Precisão x Revocação\")\n",
    "plt.show()"
   ]
  }
 ],
 "metadata": {
  "colab": {
   "collapsed_sections": [],
   "name": "Rec Info.ipynb",
   "provenance": []
  },
  "interpreter": {
   "hash": "916dbcbb3f70747c44a77c7bcd40155683ae19c65e1c03b4aa3499c5328201f1"
  },
  "kernelspec": {
   "display_name": "Python 3",
   "language": "python",
   "name": "python3"
  },
  "language_info": {
   "codemirror_mode": {
    "name": "ipython",
    "version": 3
   },
   "file_extension": ".py",
   "mimetype": "text/x-python",
   "name": "python",
   "nbconvert_exporter": "python",
   "pygments_lexer": "ipython3",
   "version": "3.8.8"
  }
 },
 "nbformat": 4,
 "nbformat_minor": 2
}
